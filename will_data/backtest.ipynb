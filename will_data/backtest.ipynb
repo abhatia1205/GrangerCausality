{
 "cells": [
  {
   "cell_type": "code",
   "execution_count": 78,
   "metadata": {},
   "outputs": [],
   "source": [
    "import pandas as pd\n",
    "import numpy as np\n",
    "import matplotlib.pyplot as plt"
   ]
  },
  {
   "cell_type": "code",
   "execution_count": 79,
   "metadata": {},
   "outputs": [
    {
     "data": {
      "text/plain": [
       "<matplotlib.image.AxesImage at 0x1568ea920>"
      ]
     },
     "execution_count": 79,
     "metadata": {},
     "output_type": "execute_result"
    },
    {
     "data": {
      "image/png": "[encoded data removed]",
      "text/plain": [
       "<Figure size 288x288 with 1 Axes>"
      ]
     },
     "metadata": {
      "needs_background": "light"
     },
     "output_type": "display_data"
    }
   ],
   "source": [
    "binary_graph = np.load('../binary_graph.npy')\n",
    "coeffs = np.load('../neural_granger_causality_testing_anant/coeffs.npy')\n",
    "\n",
    "lookback = 10\n",
    "assets = 25\n",
    "\n",
    "plt.matshow(binary_graph)"
   ]
  },
  {
   "cell_type": "code",
   "execution_count": 80,
   "metadata": {},
   "outputs": [
    {
     "name": "stdout",
     "output_type": "stream",
     "text": [
      "[(6, 0), (7, 0), (12, 0), (0, 13), (14, 0), (18, 0), (19, 0), (1, 2), (4, 1), (1, 5), (1, 11), (14, 1), (1, 15), (1, 17), (7, 2), (20, 2), (21, 2), (4, 3), (6, 3), (9, 3), (13, 3), (18, 3), (3, 22), (5, 4), (4, 11), (4, 18), (12, 5), (5, 13), (5, 15), (5, 20), (6, 22), (7, 10), (7, 12), (7, 13), (7, 14), (7, 16), (7, 17), (24, 7), (21, 8), (24, 8), (9, 11), (18, 9), (15, 11), (12, 20), (21, 12), (13, 18), (14, 15), (14, 18), (20, 14), (21, 14), (17, 15), (21, 15), (22, 15), (15, 23), (19, 16), (20, 16), (19, 17), (21, 17), (17, 22), (23, 17), (21, 19), (19, 23), (20, 22), (21, 23)]\n"
     ]
    }
   ],
   "source": [
    "pairs = []\n",
    "for i in range(len(binary_graph)):\n",
    "    for j in range(i+1, len(binary_graph[i])):\n",
    "        if binary_graph[i][j] == 1 and binary_graph[j][i] == 0 :\n",
    "            pairs.append((i,j))\n",
    "        elif binary_graph[i][j] == 0 and binary_graph[j][i] == 1:\n",
    "            pairs.append((j,i))\n",
    "\n",
    "print(pairs)\n",
    "        \n",
    "        "
   ]
  },
  {
   "cell_type": "code",
   "execution_count": 81,
   "metadata": {},
   "outputs": [
    {
     "name": "stdout",
     "output_type": "stream",
     "text": [
      "(1477, 25, 25, 25)\n"
     ]
    }
   ],
   "source": [
    "print(coeffs.shape)\n",
    "\n"
   ]
  },
  {
   "cell_type": "code",
   "execution_count": 82,
   "metadata": {},
   "outputs": [
    {
     "data": {
      "text/plain": [
       "(array([ 13.,  44., 149., 297., 403., 317., 146.,  69.,  24.,  15.]),\n",
       " array([-0.00537162, -0.00412568, -0.00287974, -0.0016338 , -0.00038786,\n",
       "         0.00085808,  0.00210402,  0.00334996,  0.0045959 ,  0.00584184,\n",
       "         0.00708778], dtype=float32),\n",
       " <BarContainer object of 10 artists>)"
      ]
     },
     "execution_count": 82,
     "metadata": {},
     "output_type": "execute_result"
    },
    {
     "data": {
      "image/png": "[encoded data removed]",
      "text/plain": [
       "<Figure size 432x288 with 1 Axes>"
      ]
     },
     "metadata": {
      "needs_background": "light"
     },
     "output_type": "display_data"
    }
   ],
   "source": [
    "import random\n",
    "t = random.randint(0, lookback-1)\n",
    "r = random.randint(0, assets-1)\n",
    "c = random.randint(0, assets-1)\n",
    "values = coeffs[:, t, r, c]\n",
    "plt.hist(values)"
   ]
  },
  {
   "cell_type": "code",
   "execution_count": 83,
   "metadata": {},
   "outputs": [],
   "source": [
    "lower = np.zeros((lookback,assets,assets))\n",
    "upper = np.zeros((lookback,assets,assets))\n",
    "\n",
    "for i in range(lookback):\n",
    "    for j in range(assets):\n",
    "        for k in range(assets):\n",
    "            values = coeffs[:, i, j, k]\n",
    "            lower[i][j][k] = np.quantile(values, 0.25)\n",
    "            upper[i][j][k] = np.quantile(values, 0.75)\n",
    "\n"
   ]
  },
  {
   "cell_type": "code",
   "execution_count": 84,
   "metadata": {},
   "outputs": [],
   "source": [
    "normalized = pd.read_csv('../will_data/sameer_data/cv_norm_precovid_test5.csv')\n",
    "\n",
    "signals = np.zeros((len(pairs),len(normalized)-lookback))\n",
    "\n",
    "# create signals\n",
    "for p in range(len(pairs)):\n",
    "    pair = pairs[p]\n",
    "    for day in range(lookback, len(normalized)-1):\n",
    "        wUpVect = np.array(upper[:,pair[0],pair[1]])\n",
    "        wLowVect = np.array(lower[:,pair[0],pair[1]])\n",
    "        tVect = normalized.iloc[day-lookback : day, pair[0]+1].to_numpy()\n",
    "\n",
    "        upperValue = 0\n",
    "        lowerValue = 0\n",
    "        for i in range(lookback):\n",
    "            upperWeight = max(wUpVect[i],wLowVect[i]) if (tVect[i] > 0) else min(wUpVect[i],wLowVect[i])\n",
    "            lowerWeight = max(wUpVect[i],wLowVect[i]) if (tVect[i] < 0) else min(wUpVect[i],wLowVect[i])\n",
    "            upperValue = upperValue + tVect[i] * upperWeight\n",
    "            lowerValue = lowerValue + tVect[i] * lowerWeight\n",
    "\n",
    "        upperValue = upperValue - normalized.iloc[day-1, pair[1]+1]\n",
    "        lowerValue = lowerValue - normalized.iloc[day-1, pair[1]+1]\n",
    "        if upperValue < 0 :\n",
    "            assert lowerValue < 0\n",
    "            signals[p][day - lookback] = -1\n",
    "        elif lowerValue > 0:\n",
    "            assert upperValue > 0\n",
    "            signals[p][day - lookback] = 1\n",
    "        else:\n",
    "            signals[p][day - lookback] = 0\n",
    "\n",
    "\n",
    "\n",
    "    \n"
   ]
  },
  {
   "cell_type": "code",
   "execution_count": 91,
   "metadata": {},
   "outputs": [
    {
     "name": "stdout",
     "output_type": "stream",
     "text": [
      "total return: 53.27564162333067\n",
      "\n",
      "\n",
      "total return: 53.27564162333067\n",
      "\n",
      "\n",
      "total return: 53.27564162333067\n",
      "\n",
      "\n",
      "total return: 80.58537680744512\n",
      "\n",
      "\n",
      "total return: 53.27564162333067\n",
      "\n",
      "\n",
      "total return: 53.27564162333067\n",
      "\n",
      "\n",
      "total return: 53.27564162333067\n",
      "\n",
      "\n",
      "total return: 83.60611770330559\n",
      "\n",
      "\n",
      "total return: 97.3799716273609\n",
      "\n",
      "\n",
      "total return: 93.99528033386969\n",
      "\n",
      "\n",
      "total return: 75.20874764139927\n",
      "\n",
      "\n",
      "total return: 97.3799716273609\n",
      "\n",
      "\n",
      "total return: 65.93605901479155\n",
      "\n",
      "\n",
      "total return: 63.327352219299534\n",
      "\n",
      "\n",
      "total return: 83.60611770330559\n",
      "\n",
      "\n",
      "total return: 83.60611770330559\n",
      "\n",
      "\n",
      "total return: 83.60611770330559\n",
      "\n",
      "\n",
      "total return: 81.98829536262173\n",
      "\n",
      "\n",
      "total return: 81.98829536262173\n",
      "\n",
      "\n",
      "total return: 81.98829536262173\n",
      "\n",
      "\n",
      "total return: 81.98829536262173\n",
      "\n",
      "\n",
      "total return: 81.98829536262173\n",
      "\n",
      "\n",
      "total return: 92.79894695676849\n",
      "\n",
      "\n",
      "total return: 85.859907424804\n",
      "\n",
      "\n",
      "total return: 75.20874764139927\n",
      "\n",
      "\n",
      "total return: 53.673436448167664\n",
      "\n",
      "\n",
      "total return: 93.99528033386969\n",
      "\n",
      "\n",
      "total return: 80.58537680744512\n",
      "\n",
      "\n",
      "total return: 65.93605901479155\n",
      "\n",
      "\n",
      "total return: 78.79177781869959\n",
      "\n",
      "\n",
      "total return: 92.79894695676849\n",
      "\n",
      "\n",
      "total return: 81.98562927088295\n",
      "\n",
      "\n",
      "total return: 88.79932904332382\n",
      "\n",
      "\n",
      "total return: 80.58537680744512\n",
      "\n",
      "\n",
      "total return: 83.94134262193563\n",
      "\n",
      "\n",
      "total return: 72.70092065783514\n",
      "\n",
      "\n",
      "total return: 63.327352219299534\n",
      "\n",
      "\n",
      "total return: 111.82723833173903\n",
      "\n",
      "\n",
      "total return: 91.7372119578801\n",
      "\n",
      "\n",
      "total return: 91.7372119578801\n",
      "\n",
      "\n",
      "total return: 75.20874764139927\n",
      "\n",
      "\n",
      "total return: 81.23192990234696\n",
      "\n",
      "\n",
      "total return: 75.20874764139927\n",
      "\n",
      "\n",
      "total return: 78.79177781869959\n",
      "\n",
      "\n",
      "total return: 88.79932904332382\n",
      "\n",
      "\n",
      "total return: 53.673436448167664\n",
      "\n",
      "\n",
      "total return: 65.93605901479155\n",
      "\n",
      "\n",
      "total return: 53.673436448167664\n",
      "\n",
      "\n",
      "total return: 83.94134262193563\n",
      "\n",
      "\n",
      "total return: 83.94134262193563\n",
      "\n",
      "\n",
      "total return: 65.93605901479155\n",
      "\n",
      "\n",
      "total return: 65.93605901479155\n",
      "\n",
      "\n",
      "total return: 65.93605901479155\n",
      "\n",
      "\n",
      "total return: 73.66581298407291\n",
      "\n",
      "\n",
      "total return: 72.70092065783514\n",
      "\n",
      "\n",
      "total return: 72.70092065783514\n",
      "\n",
      "\n",
      "total return: 63.327352219299534\n",
      "\n",
      "\n",
      "total return: 63.327352219299534\n",
      "\n",
      "\n",
      "total return: 92.79894695676849\n",
      "\n",
      "\n",
      "total return: 63.327352219299534\n",
      "\n",
      "\n",
      "total return: 120.3559844495071\n",
      "\n",
      "\n",
      "total return: 73.66581298407291\n",
      "\n",
      "\n",
      "total return: 92.79894695676849\n",
      "\n",
      "\n",
      "total return: 73.66581298407291\n",
      "\n",
      "\n"
     ]
    }
   ],
   "source": [
    "# trading on the fucking signals\n",
    "raw = pd.read_csv('../will_data/sameer_data/cv_raw_precovid_test5.csv')\n",
    "\n",
    "def backtest(p):\n",
    "    position = 0 # 0 if not holding stock, 1 if holding, -1 if shorting\n",
    "    pct_change = []\n",
    "    dates = []\n",
    "    buy_price = 0.0\n",
    "    sell_price = 0.0\n",
    "\n",
    "    stock = pairs[p][1]+1;\n",
    "\n",
    "    for day in range(lookback, len(normalized)-1):\n",
    "\n",
    "        # exiting long position\n",
    "        if signals[p][day-lookback] == 0 and position == 1:\n",
    "            position = 0\n",
    "            sell_price = raw.iloc[day, stock]\n",
    "\n",
    "            pc = sell_price/buy_price\n",
    "            pct_change.append(pc)\n",
    "            dates.append(day)\n",
    "\n",
    "        # exiting short position\n",
    "        elif signals[p][day-lookback] == 0 and position -1:\n",
    "            position = 0\n",
    "            buy_price = raw.iloc[day,stock]\n",
    "\n",
    "            pc = sell_price/buy_price\n",
    "            pct_change.append(pc)\n",
    "            dates.append(day)\n",
    "        \n",
    "        # long from neutral\n",
    "        elif signals[p][day-lookback] == 1 and position == 0:\n",
    "            position = 1\n",
    "            buy_price = raw.iloc[day,stock]\n",
    "\n",
    "        # short from neutral\n",
    "        elif signals[p][day-lookback] == -1 and position == 0:\n",
    "            position = -1\n",
    "            sell_price = raw.iloc[day,stock]\n",
    "\n",
    "        # long from short\n",
    "        #elif signals[p][day-lookback] == 1 and position == -1:\n",
    "\n",
    "    if position == 1:\n",
    "        sell_price = raw.iloc[day, stock]\n",
    "        pc = sell_price/buy_price\n",
    "        pct_change.append(pc)\n",
    "    \n",
    "    if position == -1:\n",
    "        buy_price = raw.iloc[day,stock]\n",
    "        pc = sell_price/buy_price\n",
    "        pct_change.append(pc)\n",
    "\n",
    "\n",
    "    total_return = 1\n",
    "    for i in range(len(pct_change)):\n",
    "        total_return *= pct_change[i]\n",
    "    total_return = (total_return)*100\n",
    "    print('total return: ' + str(total_return))    \n",
    "    \n",
    "\n",
    "for p in range(len(pairs)):\n",
    "    backtest(p)\n",
    "    print('\\n')"
   ]
  }
 ],
 "metadata": {
  "kernelspec": {
   "display_name": "Python 3.10.2 64-bit",
   "language": "python",
   "name": "python3"
  },
  "language_info": {
   "codemirror_mode": {
    "name": "ipython",
    "version": 3
   },
   "file_extension": ".py",
   "mimetype": "text/x-python",
   "name": "python",
   "nbconvert_exporter": "python",
   "pygments_lexer": "ipython3",
   "version": "3.10.2"
  },
  "orig_nbformat": 4,
  "vscode": {
   "interpreter": {
    "hash": "aee8b7b246df8f9039afb4144a1f6fd8d2ca17a180786b69acc140d282b71a49"
   }
  }
 },
 "nbformat": 4,
 "nbformat_minor": 2
}
